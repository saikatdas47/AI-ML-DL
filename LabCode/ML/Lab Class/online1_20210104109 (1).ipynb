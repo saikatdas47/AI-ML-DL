{
  "cells": [
    {
      "cell_type": "code",
      "execution_count": 4,
      "metadata": {
        "id": "aMGFHVgjilaa"
      },
      "outputs": [
        {
          "ename": "ModuleNotFoundError",
          "evalue": "No module named 'numpy'",
          "output_type": "error",
          "traceback": [
            "\u001b[0;31m---------------------------------------------------------------------------\u001b[0m",
            "\u001b[0;31mModuleNotFoundError\u001b[0m                       Traceback (most recent call last)",
            "Cell \u001b[0;32mIn[4], line 1\u001b[0m\n\u001b[0;32m----> 1\u001b[0m \u001b[38;5;28;01mimport\u001b[39;00m \u001b[38;5;21;01mnumpy\u001b[39;00m \u001b[38;5;28;01mas\u001b[39;00m \u001b[38;5;21;01mnp\u001b[39;00m\n\u001b[1;32m      2\u001b[0m \u001b[38;5;28;01mimport\u001b[39;00m \u001b[38;5;21;01mtorch\u001b[39;00m\n",
            "\u001b[0;31mModuleNotFoundError\u001b[0m: No module named 'numpy'"
          ]
        }
      ],
      "source": [
        "import numpy as np\n",
        "import torch"
      ]
    },
    {
      "cell_type": "code",
      "execution_count": 3,
      "metadata": {
        "colab": {
          "base_uri": "https://localhost:8080/"
        },
        "id": "BwhLtO11i982",
        "outputId": "07a68b39-79be-4264-ee6b-7cd953c372c5"
      },
      "outputs": [
        {
          "name": "stdout",
          "output_type": "stream",
          "text": [
            "[[ 2  3  6  3  4]\n",
            " [ 3  5  7  8 10]\n",
            " [ 6  5  4  9 12]]\n"
          ]
        }
      ],
      "source": [
        "a=np.array([[2,3,6,3,4],[3,5,7,8,10],[6,5,4,9,12]])\n",
        "print(a)"
      ]
    },
    {
      "cell_type": "code",
      "execution_count": 4,
      "metadata": {
        "colab": {
          "base_uri": "https://localhost:8080/"
        },
        "id": "p0JTIIfUjzSL",
        "outputId": "37e07844-1eb1-4a2a-dbec-940a17a5aac6"
      },
      "outputs": [
        {
          "name": "stdout",
          "output_type": "stream",
          "text": [
            "tensor([[ 2,  3,  6,  3,  4],\n",
            "        [ 3,  5,  7,  8, 10],\n",
            "        [ 6,  5,  4,  9, 12]])\n"
          ]
        }
      ],
      "source": [
        "tensor=torch.from_numpy(a)\n",
        "print(tensor)"
      ]
    },
    {
      "cell_type": "code",
      "execution_count": 8,
      "metadata": {
        "colab": {
          "base_uri": "https://localhost:8080/"
        },
        "id": "e-UV5V8zj7h4",
        "outputId": "072a72b8-cd63-4150-dd72-746f9309e769"
      },
      "outputs": [
        {
          "name": "stdout",
          "output_type": "stream",
          "text": [
            "tensor([[3, 3],\n",
            "        [5, 8],\n",
            "        [5, 9]])\n"
          ]
        }
      ],
      "source": [
        "result=tensor[:,1::2];\n",
        "print(result)"
      ]
    },
    {
      "cell_type": "code",
      "execution_count": 11,
      "metadata": {
        "colab": {
          "base_uri": "https://localhost:8080/"
        },
        "id": "iC-2fcZckbu6",
        "outputId": "eb6a8386-37da-4010-fe17-bb79a6b1ecae"
      },
      "outputs": [
        {
          "name": "stdout",
          "output_type": "stream",
          "text": [
            "[[ 2  3  6  3  4]\n",
            " [ 3  5  7  8 10]\n",
            " [ 6  5  4  9 12]]\n"
          ]
        }
      ],
      "source": [
        "b=np.array([[2,3,6,3,4],\n",
        "           [3,5,7,8,10],\n",
        "           [6,5,4,9,12]])\n",
        "print(a)"
      ]
    },
    {
      "cell_type": "code",
      "execution_count": 32,
      "metadata": {
        "colab": {
          "base_uri": "https://localhost:8080/"
        },
        "id": "oroNOZu5k2Ly",
        "outputId": "cdf627b5-f61d-47d6-8ce3-3516c095b2bd"
      },
      "outputs": [
        {
          "name": "stdout",
          "output_type": "stream",
          "text": [
            "tensor([[3, 7],\n",
            "        [6, 4]])\n"
          ]
        }
      ],
      "source": [
        "tensor1=torch.from_numpy(b)\n",
        "#print(tensor1)\n",
        "result1=tensor1[-2::,-5:-2:2];\n",
        "print(result1)"
      ]
    },
    {
      "cell_type": "code",
      "execution_count": null,
      "metadata": {
        "id": "vGsqHrZ4l2A4"
      },
      "outputs": [],
      "source": []
    },
    {
      "cell_type": "code",
      "execution_count": 20,
      "metadata": {
        "colab": {
          "base_uri": "https://localhost:8080/"
        },
        "id": "xBsgXabZlT3x",
        "outputId": "0c3111ce-75d9-450d-9477-c81f3272670b"
      },
      "outputs": [
        {
          "name": "stdout",
          "output_type": "stream",
          "text": [
            "[[ 2  3  6  3  4]\n",
            " [ 3  5  7  8 10]\n",
            " [ 6  5  4  9 12]\n",
            " [ 3  5  7  8 10]]\n",
            "tensor([[ 2,  3,  6,  3,  4],\n",
            "        [ 3,  5,  7,  8, 10],\n",
            "        [ 6,  5,  4,  9, 12],\n",
            "        [ 3,  5,  7,  8, 10]])\n"
          ]
        }
      ],
      "source": [
        "c=np.array([[2,3,6,3,4],\n",
        "           [3,5,7,8,10],\n",
        "           [6,5,4,9,12],\n",
        "           [3,5,7,8,10]])\n",
        "print(c)\n",
        "tensor2=torch.from_numpy(c)\n",
        "print(tensor2)"
      ]
    },
    {
      "cell_type": "code",
      "execution_count": 30,
      "metadata": {
        "colab": {
          "base_uri": "https://localhost:8080/"
        },
        "id": "h3BZ9zTKl23A",
        "outputId": "0a159d4a-ee2f-44b1-dde8-ea8dd7f0311d"
      },
      "outputs": [
        {
          "name": "stdout",
          "output_type": "stream",
          "text": [
            "tensor([[0.1111, 0.1667, 0.3333, 0.1667, 0.2222],\n",
            "        [0.0909, 0.1515, 0.2121, 0.2424, 0.3030],\n",
            "        [0.1667, 0.1389, 0.1111, 0.2500, 0.3333],\n",
            "        [0.0909, 0.1515, 0.2121, 0.2424, 0.3030]])\n"
          ]
        }
      ],
      "source": [
        "rowsum = tensor2.sum(dim=1, keepdim=True)\n",
        "pd= tensor2 / rowsum\n",
        "print(pd)\n"
      ]
    }
  ],
  "metadata": {
    "colab": {
      "provenance": []
    },
    "kernelspec": {
      "display_name": "Python 3",
      "name": "python3"
    },
    "language_info": {
      "codemirror_mode": {
        "name": "ipython",
        "version": 3
      },
      "file_extension": ".py",
      "mimetype": "text/x-python",
      "name": "python",
      "nbconvert_exporter": "python",
      "pygments_lexer": "ipython3",
      "version": "3.9.6"
    }
  },
  "nbformat": 4,
  "nbformat_minor": 0
}
